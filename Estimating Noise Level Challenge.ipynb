{
 "cells": [
  {
   "cell_type": "markdown",
   "id": "0c4854bc",
   "metadata": {},
   "source": [
    "# Estimating the Noise Level Challenge"
   ]
  },
  {
   "cell_type": "markdown",
   "id": "6e9a9885",
   "metadata": {},
   "source": [
    "The purpose of this challenge is to estimate the noise level on data that did not report error bars.\n",
    "\n",
    "Check Sec. 3.2 in: http://www.stat.columbia.edu/~gelman/book/ for how this is implemented in the likelihood and prior.\n",
    "\n",
    "Bellow is an adaptation of what we used in the \"Practical Example\", but missing the changes needed for the likelihood and prior.\n",
    "\n",
    "Your task is to:\n",
    "\n",
    "- Modify the likelihood and prior accordignly\n",
    "- Perform the Metropolis sampling and plot the posteriors including the one for $\\sigma$."
   ]
  },
  {
   "cell_type": "code",
   "execution_count": 38,
   "id": "97ae23d9",
   "metadata": {},
   "outputs": [],
   "source": [
    "import numpy as np\n",
    "import corner\n",
    "import matplotlib.pyplot as plt\n",
    "import scipy\n",
    "\n",
    "#Some pretty colors I like\n",
    "colors = ['#1f77b4', '#ff7f0e', '#2ca02c', '#d62728', '#9467bd', '#8c564b', '#e377c2', '#7f7f7f', '#bcbd22', '#17becf']"
   ]
  },
  {
   "cell_type": "code",
   "execution_count": 39,
   "id": "1c394293",
   "metadata": {},
   "outputs": [],
   "source": [
    "# Define the true function\n",
    "# We will not provide the true parameters, it is up to you to find the values!\n"
   ]
  },
  {
   "cell_type": "code",
   "execution_count": 40,
   "id": "f9bf076a",
   "metadata": {},
   "outputs": [],
   "source": [
    "#Generating the data and using a fixed seed to reproduce results\n",
    "\n",
    "\n",
    "data_A_x=np.array([0.5,0.6,0.7,0.75,0.8,0.9,1.1,1.2,1.5,1.7,2.0])\n",
    "\n",
    "\n",
    "data_A_y =np.array([1.29899102, 1.54700909, 1.51518996, 1.15977   , 1.47009939,\n",
    "       1.58539306, 2.07189646, 2.2291422 , 2.30052051, 2.590777  ,\n",
    "       3.17294916])\n"
   ]
  },
  {
   "cell_type": "code",
   "execution_count": 41,
   "id": "3610ff95",
   "metadata": {},
   "outputs": [
    {
     "data": {
      "image/png": "[encoded data removed]",
      "text/plain": [
       "<Figure size 500x500 with 1 Axes>"
      ]
     },
     "metadata": {
      "needs_background": "light"
     },
     "output_type": "display_data"
    }
   ],
   "source": [
    "# Plot the data with error bars\n",
    "fig, ax = plt.subplots(figsize=(5,5),dpi=100)\n",
    "ax.errorbar(data_A_x, data_A_y, fmt='o', linewidth=2,capsize=7,label='Data [95% Errors]',color=colors[0])\n",
    "\n",
    "\n",
    "\n",
    "# plt.legend(fontsize=15,frameon=True, edgecolor='black')\n",
    "\n",
    "\n",
    "ax.set_xlabel('X',fontsize=20)\n",
    "ax.set_ylabel('Y',fontsize=20)\n",
    "\n",
    "plt.rc('xtick', labelsize=20)    # fontsize of the tick labels\n",
    "plt.rc('ytick', labelsize=20)\n",
    "plt.show()\n"
   ]
  },
  {
   "cell_type": "markdown",
   "id": "f6b78555",
   "metadata": {},
   "source": [
    "<font size=\"5\">\n",
    "The model we will use to fit to this data set is:\n",
    "    \n",
    "    \n",
    "\n",
    "$f(x,\\alpha) = \\alpha_1+\\alpha_2x$"
   ]
  },
  {
   "cell_type": "code",
   "execution_count": 42,
   "id": "fbf33e7e",
   "metadata": {},
   "outputs": [],
   "source": [
    "def model_A(x,params):\n",
    "    return params[0]+params[1]*x"
   ]
  },
  {
   "cell_type": "markdown",
   "id": "7188511d",
   "metadata": {},
   "source": [
    "Below you will have to modify the likelihood and prior functions to take the noise $\\sigma$ as a new parameter to be estimated. \n",
    "Check Sec. 3.2 in: http://www.stat.columbia.edu/~gelman/book/"
   ]
  },
  {
   "cell_type": "code",
   "execution_count": 8,
   "id": "eacca29d",
   "metadata": {},
   "outputs": [],
   "source": [
    "###########   sigmas should not be an argument anymore, but a parameter!    ############\n",
    "\n",
    "\n",
    "# Define the likelihood function for given errors sigma\n",
    "def likelihood(params,arguments):\n",
    "#Assumed format for data=[xvals,yvals]\n",
    "    data, model, sigmas = arguments\n",
    "    likelihood_log_val=0\n",
    "\n",
    "    for i in range(len(data[0])):\n",
    "        likelihood_log_val=likelihood_log_val-1/2*((data[1][i] - model(data[0][i],params)) / sigmas[i])**2\\\n",
    "        -np.log(2*np.pi*sigmas[i]**2)/2\n",
    "      \n",
    "        \n",
    "    return np.exp(likelihood_log_val)\n",
    "\n",
    "# Define the prior function\n",
    "def prior_model_A(params_vals,arguments):\n",
    "    params0,params0_Cov_Inv_matrix=arguments\n",
    "    mu=np.array(params_vals)-np.array(params0)\n",
    "    params_size=len(params_vals)\n",
    "    return (2*np.pi)**(-params_size/2)*np.linalg.det(params0_Cov_Inv_matrix)**(-1)*np.exp(-np.dot(mu,np.dot(params0_Cov_Inv_matrix,mu))/2)\n",
    "\n"
   ]
  },
  {
   "cell_type": "code",
   "execution_count": 9,
   "id": "38a0d42b",
   "metadata": {},
   "outputs": [],
   "source": [
    "# Define the Metropolis algorithm\n",
    "def metropolis(data,sigma, prior,prior_arguments, likelihood,model,\\\n",
    "               num_iterations, step_size):\n",
    "#     step_size should be a list the size of the parameters of the model\n",
    "    likelihood_arguments=[data, model, sigma]\n",
    "    initial_parameters=prior_arguments[0]\n",
    "    #thermalizing\n",
    "    burn_samples=1000\n",
    "    # Set the initial state of the chain\n",
    "    params_current=initial_parameters\n",
    "    params_list=[]\n",
    "    posterior_list=[]\n",
    "    \n",
    "    acceptance_times=0\n",
    "    \n",
    "    cov_step_size=np.diag(step_size)**2\n",
    "    \n",
    "    posterior_current=(likelihood(params_current,likelihood_arguments))*(prior(params_current,\\\n",
    "                                                                               prior_arguments))\n",
    "    \n",
    "    # Run the Metropolis-Hastings algorithm for burning\n",
    "    for i in range(burn_samples):\n",
    "        # Propose a new state for the chain\n",
    "        params_proposed=np.random.multivariate_normal(params_current,cov_step_size)\n",
    "        \n",
    "        posterior_proposed=(likelihood(params_proposed,likelihood_arguments))*(prior(params_proposed,\\\n",
    "                                                                               prior_arguments))\n",
    "        \n",
    "        # Calculate the acceptance probability\n",
    "        acceptance_prob = min(1, posterior_proposed / posterior_current)\n",
    "\n",
    "        # Accept or reject the proposal\n",
    "        if np.random.uniform() < acceptance_prob:\n",
    "            params_current = params_proposed\n",
    "            posterior_current=posterior_proposed\n",
    "\n",
    "\n",
    "    for i in range(num_iterations):\n",
    "        params_proposed=np.random.multivariate_normal(params_current,cov_step_size)\n",
    "        \n",
    "        posterior_proposed=(likelihood(params_proposed,likelihood_arguments))*\\\n",
    "        (prior(params_proposed,prior_arguments))\n",
    "        \n",
    "        # Calculate the acceptance probability\n",
    "        acceptance_prob = min(1, posterior_proposed / posterior_current)\n",
    "\n",
    "        # Accept or reject the proposal\n",
    "        if np.random.uniform() < acceptance_prob:\n",
    "            params_current = params_proposed\n",
    "            posterior_current=posterior_proposed\n",
    "            acceptance_times=acceptance_times+1\n",
    "\n",
    "        # Store the current state\n",
    "        params_list.append(params_current)\n",
    "        posterior_list.append(posterior_current)\n",
    "        \n",
    "    \n",
    "    #Rule of thumb acceptance is around 50%. \n",
    "    #You could plot the accuracy of the estimations as a function of this rate, that would be interesting to see. \n",
    "    print(acceptance_times/num_iterations*100,\"%\")\n",
    "    \n",
    "    return(np.array(params_list),np.array(posterior_list),\\\n",
    "           acceptance_times/num_iterations*100)\n",
    "\n"
   ]
  },
  {
   "cell_type": "code",
   "execution_count": 10,
   "id": "4107ca8a",
   "metadata": {},
   "outputs": [
    {
     "name": "stdout",
     "output_type": "stream",
     "text": [
      "40.175 %\n"
     ]
    }
   ],
   "source": [
    "np.random.seed(142857)\n",
    "\n",
    "#Setting up the prior\n",
    "prior_arguments_A=[[0,1],np.linalg.inv(np.diag([2**2,2**2]))]\n",
    "\n",
    "#Doing the Metropolis sampling for 100000 values\n",
    "results_A=metropolis([data_A_x,data_A_y],data_A_errors, prior_model_A,\\\n",
    "                         prior_arguments_A, likelihood,model_A,100000, [0.2,0.2])\n",
    "all_chains =results_A[0]"
   ]
  },
  {
   "cell_type": "markdown",
   "id": "9644fcf2",
   "metadata": {},
   "source": [
    "Lets plot the parameters we visited from the Metropolis algorithm using the corner package in python"
   ]
  },
  {
   "cell_type": "code",
   "execution_count": 12,
   "id": "8066abce",
   "metadata": {},
   "outputs": [
    {
     "data": {
      "image/png": "[encoded data removed]",
      "text/plain": [
       "<Figure size 576x432 with 4 Axes>"
      ]
     },
     "metadata": {
      "needs_background": "light"
     },
     "output_type": "display_data"
    }
   ],
   "source": [
    "\n",
    "figure = corner.corner(all_chains,\n",
    "    labels=[r'$\\alpha_0$',r'$\\alpha_1$'],\n",
    "    labelpad=0.2,\n",
    "                       bins=30,\n",
    "    label_kwargs={\"fontsize\":30},\n",
    "                      hist_kwargs= {\"linewidth\":3},\n",
    "    quantiles=None\n",
    "#                        #This \"truth\" value shows what we used to generate the data\n",
    "#                        ,truths=[0.2,2], truth_color='r'\n",
    "                       ,\n",
    "    smooth=(1.7)\n",
    "                       ,\n",
    "    smooth1d=1.0\n",
    "                      )\n",
    "\n",
    "\n",
    "width = 8\n",
    "height = 6\n",
    "figure.set_size_inches(width, height)\n",
    "plt.rc('xtick', labelsize=15)    \n",
    "plt.rc('ytick', labelsize=15)\n",
    "\n"
   ]
  },
  {
   "cell_type": "markdown",
   "id": "56df90f2",
   "metadata": {},
   "source": [
    "If all went well, you should now have three parameters in the corner plot: slope and intercept, and the noise level $\\sigma$"
   ]
  }
 ],
 "metadata": {
  "kernelspec": {
   "display_name": "Python 3 (ipykernel)",
   "language": "python",
   "name": "python3"
  },
  "language_info": {
   "codemirror_mode": {
    "name": "ipython",
    "version": 3
   },
   "file_extension": ".py",
   "mimetype": "text/x-python",
   "name": "python",
   "nbconvert_exporter": "python",
   "pygments_lexer": "ipython3",
   "version": "3.10.6"
  }
 },
 "nbformat": 4,
 "nbformat_minor": 5
}
