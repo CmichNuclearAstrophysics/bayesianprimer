{
 "cells": [
  {
   "cell_type": "markdown",
   "id": "f89d0ce2",
   "metadata": {},
   "source": [
    "# Model Selection Challenge"
   ]
  },
  {
   "cell_type": "markdown",
   "id": "434fe4d9",
   "metadata": {},
   "source": [
    "The purpose of this challenge is for you to be able to choose a new location for an experimental measurement using Bayesian methods.\n",
    "\n",
    "The details and data for this challenge are found here: https://arxiv.org/abs/1812.05706 and here: https://journals.aps.org/prc/abstract/10.1103/PhysRevC.98.025204\n",
    "\n",
    "Your task is to:\n",
    "\n",
    "- Generate data using a fixed model. You can use one of the models in https://journals.aps.org/prc/abstract/10.1103/PhysRevC.98.025204 like the dipole (Eq. 2). Centered in this data, generate several observations for different levels of Gaussian noise. For the Q range of the data see Fig 1. \n",
    "- For each of the observation sets, perform a Bayesian calibration of a straight line and a parabola. Compare how the Bias and Variance (See Figure 2 of https://arxiv.org/abs/1812.05706) change as the noise level increases. You can also explore fixing the noise value but changing the total number of points, or their locations. \n",
    "- Compare your results when changing the range of points with Fig. 2 of https://arxiv.org/abs/1812.05706."
   ]
  },
  {
   "cell_type": "code",
   "execution_count": null,
   "id": "b677f0db",
   "metadata": {},
   "outputs": [],
   "source": [
    "#Smart code goes here... "
   ]
  }
 ],
 "metadata": {
  "kernelspec": {
   "display_name": "Python 3 (ipykernel)",
   "language": "python",
   "name": "python3"
  },
  "language_info": {
   "codemirror_mode": {
    "name": "ipython",
    "version": 3
   },
   "file_extension": ".py",
   "mimetype": "text/x-python",
   "name": "python",
   "nbconvert_exporter": "python",
   "pygments_lexer": "ipython3",
   "version": "3.10.6"
  }
 },
 "nbformat": 4,
 "nbformat_minor": 5
}
